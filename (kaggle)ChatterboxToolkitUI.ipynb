{
 "cells": [
  {
   "cell_type": "code",
   "execution_count": null,
   "id": "7e3b2068",
   "metadata": {
    "id": "bO7B4GlvbY6n",
    "papermill": {
     "duration": null,
     "end_time": null,
     "exception": false,
     "start_time": "2025-06-21T16:12:39.181380",
     "status": "running"
    },
    "tags": []
   },
   "outputs": [],
   "source": [
    "!git clone https://github.com/dasjoms/ChatterboxToolkitUI.git\n",
    "!pip install chatterbox-tts\n",
    "!pip install gradio pydub scipy\n",
    "!pip install webrtcvad\n",
    "!apt install ffmpeg\n",
    "%cd /kaggle/working/ChatterboxToolkitUI/\n",
    "file_path = \"ChatterboxToolkitUI.py\"\n",
    "\n",
    "with open(file_path, \"r\", encoding=\"utf-8\") as f:\n",
    "    code = f.read()\n",
    "\n",
    "# Replace the line\n",
    "updated_code = code.replace(\n",
    "    \"demo.queue().launch()\",\n",
    "    \"demo.queue().launch(share=False)\"\n",
    ")\n",
    "\n",
    "with open(file_path, \"w\", encoding=\"utf-8\") as f:\n",
    "    f.write(updated_code)\n",
    "\n",
    "print(\"✅ Updated 'demo.queue().launch()' to include share=False\")"
   ]
  },
  {
   "cell_type": "code",
   "execution_count": null,
   "id": "c87417c0",
   "metadata": {
    "papermill": {
     "duration": null,
     "end_time": null,
     "exception": null,
     "start_time": null,
     "status": "pending"
    },
    "tags": []
   },
   "outputs": [],
   "source": [
    "# Starting the Web UI with pinggy\n",
    "\n",
    "from multiprocessing import Process\n",
    "import sys\n",
    "import time\n",
    "\n",
    "!touch log.txt\n",
    "open('log.txt', 'w').close()\n",
    "\n",
    "def run_app():\n",
    "    cmd = f\"python ChatterboxToolkitUI.py & ssh -o StrictHostKeyChecking=no -p 80 -R0:localhost:7860 a.pinggy.io > log.txt\"\n",
    "    get_ipython().system(cmd)\n",
    "    \n",
    "def print_url():\n",
    "    print(\"waiting for output\")\n",
    "    time.sleep(2)\n",
    "    sys.stdout.flush()\n",
    "    \n",
    "    found = False\n",
    "    with open('log.txt', 'r') as file:\n",
    "        end_word = '.pinggy.link'\n",
    "        for line in file:\n",
    "            start_index = line.find(\"http:\")\n",
    "            if start_index != -1:\n",
    "                end_index = line.find(end_word, start_index)\n",
    "                if end_index != -1:\n",
    "                    print(\"😁 😁 😁\")\n",
    "                    print(\"URL: \" + line[start_index:end_index + len(end_word)])\n",
    "                    print(\"😁 😁 😁\")\n",
    "                    found = True\n",
    "    if not found:\n",
    "        print_url()\n",
    "    else:\n",
    "        with open('log.txt', 'r') as file:\n",
    "            for line in file:\n",
    "                print(line)\n",
    "    \n",
    "p_app = Process(target=run_app)\n",
    "p_url = Process(target=print_url)\n",
    "p_app.start()\n",
    "p_url.start()\n",
    "p_app.join()\n",
    "p_url.join()\n"
   ]
  }
 ],
 "metadata": {
  "colab": {
   "authorship_tag": "ABX9TyPhfBqL94eeOsOcqjwajdKv",
   "provenance": []
  },
  "kaggle": {
   "accelerator": "nvidiaTeslaT4",
   "dataSources": [],
   "dockerImageVersionId": 31041,
   "isGpuEnabled": true,
   "isInternetEnabled": true,
   "language": "python",
   "sourceType": "notebook"
  },
  "kernelspec": {
   "display_name": "Python 3",
   "language": "python",
   "name": "python3"
  },
  "language_info": {
   "codemirror_mode": {
    "name": "ipython",
    "version": 3
   },
   "file_extension": ".py",
   "mimetype": "text/x-python",
   "name": "python",
   "nbconvert_exporter": "python",
   "pygments_lexer": "ipython3",
   "version": "3.11.11"
  },
  "papermill": {
   "default_parameters": {},
   "duration": null,
   "end_time": null,
   "environment_variables": {},
   "exception": null,
   "input_path": "__notebook__.ipynb",
   "output_path": "__notebook__.ipynb",
   "parameters": {},
   "start_time": "2025-06-21T16:12:35.045892",
   "version": "2.6.0"
  }
 },
 "nbformat": 4,
 "nbformat_minor": 5
}