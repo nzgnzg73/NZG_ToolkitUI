{
  "nbformat": 4,
  "nbformat_minor": 0,
  "metadata": {
    "colab": {
      "provenance": [],
      "gpuType": "T4"
    },
    "kernelspec": {
      "name": "python3",
      "display_name": "Python 3"
    },
    "language_info": {
      "name": "python"
    },
    "accelerator": "GPU"
  },
  "cells": [
    {
      "cell_type": "markdown",
      "source": [
        "# Github Repository File Upload"
      ],
      "metadata": {
        "id": "zrHta9gioHtO"
      }
    },
    {
      "cell_type": "code",
      "execution_count": null,
      "metadata": {
        "id": "Ypseqdgpn4pZ"
      },
      "outputs": [],
      "source": [
        "!git clone https://github.com/nzgnzg73/Chatterbox-TTS-Server-Multilingual.git"
      ]
    },
    {
      "cell_type": "markdown",
      "source": [
        "https://github.com/nzgnzg73?tab=repositories"
      ],
      "metadata": {
        "id": "GuwDl38EoujI"
      }
    },
    {
      "cell_type": "code",
      "source": [
        "%cd /content/Chatterbox-TTS-Server-Multilingual"
      ],
      "metadata": {
        "id": "pGzzHcJOop2p"
      },
      "execution_count": null,
      "outputs": []
    },
    {
      "cell_type": "markdown",
      "source": [
        "# Google colab Zip File Upload\n",
        "\n",
        "# location"
      ],
      "metadata": {
        "id": "U0Vz0yQIo0fu"
      }
    },
    {
      "cell_type": "code",
      "source": [
        "!unzip /content/Chatterbox-TTS-Server-windows-easyInstallation-main.zip"
      ],
      "metadata": {
        "id": "4JA3T9jvoytI"
      },
      "execution_count": null,
      "outputs": []
    },
    {
      "cell_type": "markdown",
      "source": [
        "# Gmail Address\n",
        "\n",
        "# Github User Name"
      ],
      "metadata": {
        "id": "q3dEyXoqpOfI"
      }
    },
    {
      "cell_type": "code",
      "source": [
        "!git config user.email \"nnnnnnn@gmail.com\"\n",
        "!git config user.name \"nzgnzg73\""
      ],
      "metadata": {
        "id": "tVAiNJGPpLSA"
      },
      "execution_count": null,
      "outputs": []
    },
    {
      "cell_type": "code",
      "source": [
        "!git add ."
      ],
      "metadata": {
        "id": "8jMhZ6m_ppEG"
      },
      "execution_count": null,
      "outputs": []
    },
    {
      "cell_type": "code",
      "source": [
        "!git commit -m \"Files extracted and uploaded via Colab\""
      ],
      "metadata": {
        "id": "H3vYaVWUpr6I"
      },
      "execution_count": null,
      "outputs": []
    },
    {
      "cell_type": "code",
      "source": [
        "%cd /content/Chatterbox-TTS-Server-Multilingual"
      ],
      "metadata": {
        "id": "SoRzSX3gptzm"
      },
      "execution_count": null,
      "outputs": []
    },
    {
      "cell_type": "code",
      "source": [
        "!git add .\n",
        "!git commit -m \"Re-adding files before push attempt\""
      ],
      "metadata": {
        "id": "kd-NoSBCp0_x"
      },
      "execution_count": null,
      "outputs": []
    },
    {
      "cell_type": "markdown",
      "source": [
        "# Youtube Video Check Me\n",
        "\n",
        "https://youtube.com/shorts/rlO6C6dDKNs?si=5nT3LJR9l26Olf5j"
      ],
      "metadata": {
        "id": "Jnkrts14p3ho"
      }
    },
    {
      "cell_type": "markdown",
      "source": [
        "# https://github.com/settings/tokens"
      ],
      "metadata": {
        "id": "YXSAvODgp6TQ"
      }
    },
    {
      "cell_type": "code",
      "source": [
        "!git push https://YOUR_PAT_HERE/Tokens_@github.com/nzgnzg73/Chatterbox-TTS-Server-Multilingual.git main"
      ],
      "metadata": {
        "id": "sDXqLMoFp9H4"
      },
      "execution_count": null,
      "outputs": []
    },
    {
      "cell_type": "markdown",
      "source": [
        "# Hugging FACE file Upload"
      ],
      "metadata": {
        "id": "gUQyx62iqmU3"
      }
    },
    {
      "cell_type": "markdown",
      "source": [
        "# HF_TOKEN\n",
        "\n",
        "https://huggingface.co/security-checkup?cookieId=c241f0d1-973c-4507-be9e-4316badf8a1d"
      ],
      "metadata": {
        "id": "vEz0R2PGrDMi"
      }
    },
    {
      "cell_type": "code",
      "source": [
        "# 1. Install required library\n",
        "!pip install huggingface_hub\n",
        "\n",
        "from huggingface_hub import HfApi, HfFolder\n",
        "import os\n",
        "\n",
        "# 2. Define your Token and Target Repository ID (No Urdu in code)\n",
        "HF_TOKEN = 'nnnnnnnnnnnnnnnnnnn'\n",
        "TARGET_REPO_ID = \"nzgnzg73/chatterbox\" # Your NEW Hugging Face Repository\n",
        "\n",
        "#Above you have to write your username, for example, I will tell you what you have to write the username of the person in whom you want to upload the file.\n",
        "\n",
        "# Save the token for API usage\n",
        "HfFolder.save_token(HF_TOKEN)\n",
        "api = HfApi()\n",
        "\n",
        "print(\"Hugging Face API setup complete.\")\n",
        "print(f\"Target Repository: {TARGET_REPO_ID}\")"
      ],
      "metadata": {
        "id": "tBh0FePDqvoe"
      },
      "execution_count": null,
      "outputs": []
    },
    {
      "cell_type": "markdown",
      "source": [
        "# Upload File\n",
        "\n",
        "# Next, I want to pick up someone's model link and add it below."
      ],
      "metadata": {
        "id": "WzD-tvpwrQTf"
      }
    },
    {
      "cell_type": "code",
      "source": [
        "# 3. Define the source URLs for ALL files from the ResembleAI/chatterbox list\n",
        "MODEL_URLS = {\n",
        "    # JSON files\n",
        "    'Cangjie5_TC.json': 'https://huggingface.co/ResembleAI/chatterbox/resolve/main/Cangjie5_TC.json',\n",
        "    'grapheme_mtl_merged_expanded_v1.json': 'https://huggingface.co/ResembleAI/chatterbox/resolve/main/grapheme_mtl_merged_expanded_v1.json',\n",
        "    'mtl_tokenizer.json': 'https://huggingface.co/ResembleAI/chatterbox/resolve/main/mtl_tokenizer.json',\n",
        "    'tokenizer.json': 'https://huggingface.co/ResembleAI/chatterbox/resolve/main/tokenizer.json',\n",
        "\n",
        "    # PT files\n",
        "    'conds.pt': 'https://huggingface.co/ResembleAI/chatterbox/resolve/main/conds.pt',\n",
        "    's3gen.pt': 'https://huggingface.co/ResembleAI/chatterbox/resolve/main/s3gen.pt',\n",
        "    't3_cfg.pt': 'https://huggingface.co/ResembleAI/chatterbox/resolve/main/t3_cfg.pt',\n",
        "    've.pt': 'https://huggingface.co/ResembleAI/chatterbox/resolve/main/ve.pt',\n",
        "\n",
        "    # Safetensors files\n",
        "    's3gen.safetensors': 'https://huggingface.co/ResembleAI/chatterbox/resolve/main/s3gen.safetensors',\n",
        "    't3_23lang.safetensors': 'https://huggingface.co/ResembleAI/chatterbox/resolve/main/t3_23lang.safetensors',\n",
        "    't3_cfg.safetensors': 'https://huggingface.co/ResembleAI/chatterbox/resolve/main/t3_cfg.safetensors',\n",
        "    't3_mtl23ls_v2.safetensors': 'https://huggingface.co/ResembleAI/chatterbox/resolve/main/t3_mtl23ls_v2.safetensors'\n",
        "}\n",
        "\n",
        "\n",
        "\n",
        "# If you have a file you want to upload, please provide its name below.\n",
        "\n",
        "LOCAL_DOWNLOAD_PATH = '/content/chatterbox_full_models'\n",
        "!mkdir -p \"$LOCAL_DOWNLOAD_PATH\"\n",
        "\n",
        "\n",
        "\n",
        "print(f\"Downloading {len(MODEL_URLS)} models to temporary path: {LOCAL_DOWNLOAD_PATH}\\n\")\n",
        "\n",
        "for filename, url in MODEL_URLS.items():\n",
        "    local_file_path = os.path.join(LOCAL_DOWNLOAD_PATH, filename)\n",
        "    print(f\"Downloading {filename} (Size: {url.split('/')[-1]})...\")\n",
        "\n",
        "    # Use wget to download the file directly\n",
        "    # NOTE: Large files (like 1GB+) will take time, but will use Colab's speed.\n",
        "    !wget -O \"$local_file_path\" \"$url\" -q\n",
        "\n",
        "print(\"\\n✅ All specified files have been downloaded to Colab's temporary storage.\")"
      ],
      "metadata": {
        "id": "4rcSEdC6rg3O"
      },
      "execution_count": null,
      "outputs": []
    },
    {
      "cell_type": "markdown",
      "source": [
        "# Now if you click on this coding, all your previous data will be uploaded, none of your MB will be used."
      ],
      "metadata": {
        "id": "LWZ0TTrjr2uW"
      }
    },
    {
      "cell_type": "code",
      "source": [
        "# 4. Upload the downloaded files to your NEW Hugging Face Repository\n",
        "print(f\"Starting upload to {TARGET_REPO_ID}...\")\n",
        "\n",
        "for filename in MODEL_URLS.keys():\n",
        "    local_path = os.path.join(LOCAL_DOWNLOAD_PATH, filename)\n",
        "\n",
        "    if os.path.exists(local_path):\n",
        "        print(f\"Uploading: {filename}...\")\n",
        "        api.upload_file(\n",
        "            path_or_fileobj=local_path,\n",
        "            path_in_repo=filename,\n",
        "            repo_id=TARGET_REPO_ID,\n",
        "            repo_type=\"model\",\n",
        "            token=HF_TOKEN,\n",
        "            commit_message=f\"Full ResembleAI chatterbox model: {filename}\"\n",
        "        )\n",
        "        print(f\"✅ SUCCESSFULLY UPLOADED: {filename}\")\n",
        "    else:\n",
        "        print(f\"❌ ERROR: File not found locally - {filename}\")\n",
        "\n",
        "print(\"\\n🎉 Full model files upload process complete!\")\n",
        "\n",
        "# Below you have given the ID with the hugging face, which means you do not have to give the name of the one you are uploading the file to, for example, I have given the example of NZGNZG 73, you just have to remove the exact NZGNZG 73 and put the name of your host.\n",
        "\n",
        "print(f\"You can now verify the files at: https://huggingface.co/{TARGET_REPO_ID}/tree/main\")"
      ],
      "metadata": {
        "id": "gqViFazKr2NO"
      },
      "execution_count": null,
      "outputs": []
    }
  ]
}