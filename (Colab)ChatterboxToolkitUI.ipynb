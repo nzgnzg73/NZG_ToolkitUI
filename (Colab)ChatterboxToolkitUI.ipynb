{
  "nbformat": 4,
  "nbformat_minor": 0,
  "metadata": {
    "colab": {
      "provenance": [],
      "gpuType": "T4"
    },
    "kernelspec": {
      "name": "python3",
      "display_name": "Python 3"
    },
    "language_info": {
      "name": "python"
    },
    "accelerator": "GPU"
  },
  "cells": [
    {
      "cell_type": "markdown",
      "source": [],
      "metadata": {
        "id": "Qj7wZNlSpgSG"
      }
    },
    {
      "cell_type": "code",
      "execution_count": null,
      "metadata": {
        "id": "PY8nYp7Apck8"
      },
      "outputs": [],
      "source": [
        "!git clone https://github.com/nzgnzg73/NZG_ToolkitUI.git\n",
        "!pip install chatterbox-tts\n",
        "!pip install gradio pydub scipy\n",
        "!pip install webrtcvad\n",
        "!apt install ffmpeg\n",
        "%cd NZG_ToolkitUI\n",
        "\n",
        "!pip uninstall -y numpy\n",
        "\n",
        "!pip install numpy==1.26.4\n",
        "!pip search perth\n",
        "\n",
        "!pip install perth\n",
        "\n",
        "!ls /content/NZG_ToolkitUI/src/chatterbox/\n",
        "\n",
        "%cd perth\n",
        "!pip install .\n",
        "\n",
        "# @title Default title text\n",
        "!pip uninstall -y torch torchvision torchaudio\n",
        "\n",
        "!pip install --force-reinstall torchvision==0.21.0 --extra-index-url https://download.pytorch.org/whl/cu124\n"
      ]
    },
    {
      "cell_type": "markdown",
      "source": [
        "**Setp (2)**"
      ],
      "metadata": {
        "id": "PcVuR1C1sIpQ"
      }
    },
    {
      "cell_type": "code",
      "source": [
        "!pip install torchaudio==2.6.0 --extra-index-url https://download.pytorch.org/whl/cu124\n",
        "!pip install torch==2.6.0+cu124 torchvision==0.21.0+cu124 --extra-index-url https://download.pytorch.org/whl/cu124\n",
        "!pip uninstall -y numpy\n",
        "!pip install numpy==1.26.4\n",
        "\n",
        "!python /content/NZG_ToolkitUI/app.py\n"
      ],
      "metadata": {
        "id": "SBubttdzrVBW"
      },
      "execution_count": null,
      "outputs": []
    }
  ]
}
